{
 "metadata": {
  "language_info": {
   "codemirror_mode": {
    "name": "ipython",
    "version": 3
   },
   "file_extension": ".py",
   "mimetype": "text/x-python",
   "name": "python",
   "nbconvert_exporter": "python",
   "pygments_lexer": "ipython3",
   "version": "3.8.8"
  },
  "orig_nbformat": 4,
  "kernelspec": {
   "name": "python3",
   "display_name": "Python 3.8.8 64-bit ('torch-points3d-w-BPrO1f-py3.8': poetry)"
  },
  "interpreter": {
   "hash": "b6735002e15b51b6d703c89f82108674911e30b5653ed2ad83f3e0f88fc4e377"
  }
 },
 "nbformat": 4,
 "nbformat_minor": 2,
 "cells": [
  {
   "cell_type": "code",
   "execution_count": 4,
   "source": [
    "import open3d as o3d\n",
    "import numpy as np\n",
    "\n",
    "file = '../../../KITTI_partial_3s/velodyne_rov/181432.bin'\n",
    "\n",
    "# pcd = o3d.io.read_point_cloud(file)\n",
    "# o3d.visualization.draw_geometries([pcd])"
   ],
   "outputs": [],
   "metadata": {}
  },
  {
   "cell_type": "code",
   "execution_count": 5,
   "source": [
    "# # HDL-32E\n",
    "# n_scan = 32 # vertical channels\n",
    "# horizon_scan = 1800 # horizontal channels\n",
    "# ang_top = 10.67 # max vertical angle\n",
    "# ang_bottom = -30.67 # min vertical angle\n",
    "# ground_scan_ind = 20\n",
    "\n",
    "# # VLP-32C\n",
    "# n_scan = 32 # vertical channels\n",
    "# horizon_scan = 1800 # horizontal channels\n",
    "# ang_top = 15 # max vertical angle\n",
    "# ang_bottom = -25 # min vertical angle\n",
    "# ground_scan_ind = 20\n",
    "\n",
    "# HDL-64E\n",
    "n_scan = 64 # vertical channels\n",
    "horizon_scan = 1800 # horizontal channels\n",
    "ang_top = 2 # max vertical angle\n",
    "ang_bottom = -24.9 # min vertical angle\n",
    "ground_scan_ind = 40\n",
    "\n",
    "ang_res_x = 360/horizon_scan\n",
    "ang_res_y = (ang_top-ang_bottom) / (n_scan - 1)\n",
    "\n",
    "sensor_mount_angle = 0\n",
    "sensor_minimum_range = 1\n",
    "\n",
    "# pcd = o3d.io.read_point_cloud(file)\n",
    "# coords = np.asarray(pcd.points)\n",
    "\n",
    "coords = np.fromfile(file, dtype=np.float32).reshape((-1, 4))\n",
    "coords = coords[:, 0:3]\n",
    "\n",
    "# Reorder points\n",
    "reordered_coords = np.zeros(shape=[horizon_scan * n_scan, 4])\n",
    "for [x, y, z] in coords:\n",
    "    if np.linalg.norm([x, y, z]) < sensor_minimum_range:\n",
    "        continue\n",
    "\n",
    "    vertical_angle = np.arctan2(z, np.linalg.norm([x, y])) * 180.0 / np.pi\n",
    "\n",
    "    if vertical_angle < ang_bottom or vertical_angle > ang_top:\n",
    "        continue\n",
    "\n",
    "    vert_id = np.round((vertical_angle - ang_bottom) / ang_res_y)\n",
    "\n",
    "    horizon_angle = np.arctan2(y, x) * 180.0 / np.pi\n",
    "\n",
    "    if horizon_angle < 0:\n",
    "        horizon_angle += 360\n",
    "\n",
    "    horizon_id = np.round(horizon_angle / ang_res_x)\n",
    "\n",
    "    index = int(horizon_id + vert_id * horizon_scan)\n",
    "\n",
    "    reordered_coords[index, :3] = [x, y, z]\n",
    "\n",
    "# Ground removal\n",
    "for i in range(reordered_coords.shape[0]):\n",
    "    lower_id = i\n",
    "    upper_id = i + horizon_scan\n",
    "\n",
    "    if upper_id >= reordered_coords.shape[0]:\n",
    "        continue\n",
    "\n",
    "    diffX = reordered_coords[upper_id, 0] - reordered_coords[lower_id, 0]\n",
    "    diffY = reordered_coords[upper_id, 1] - reordered_coords[lower_id, 1]\n",
    "    diffZ = reordered_coords[upper_id, 2] - reordered_coords[lower_id, 2]\n",
    "\n",
    "    angle = np.arctan2(diffZ, np.linalg.norm([diffX, diffY])) * 180.0 / np.pi\n",
    "\n",
    "    if np.abs(angle - sensor_minimum_range) <= 10:\n",
    "        reordered_coords[i, 3] = 1\n",
    "\n",
    "reordered_coords = reordered_coords[np.logical_not(np.logical_and(reordered_coords[:, 0] == 0, reordered_coords[:, 1] == 0, reordered_coords[:, 2] == 0))]\n",
    "segmented_coords = reordered_coords[:, :3][reordered_coords[:, -1] != 1]\n"
   ],
   "outputs": [],
   "metadata": {
    "tags": []
   }
  },
  {
   "cell_type": "code",
   "execution_count": 6,
   "source": [
    "pcd_seg = o3d.geometry.PointCloud()\n",
    "pcd_seg.points = o3d.utility.Vector3dVector(segmented_coords)\n",
    "o3d.visualization.draw_geometries([pcd_seg])"
   ],
   "outputs": [],
   "metadata": {}
  },
  {
   "cell_type": "code",
   "execution_count": 8,
   "source": [
    "np.savetxt('/mnt/F/Uni GDrive/UniMelb/PhD/scripts/code_lidar/demo/550020.0497.csv', segmented_coords, delimiter=',')"
   ],
   "outputs": [],
   "metadata": {}
  }
 ]
}