{
 "metadata": {
  "language_info": {
   "codemirror_mode": {
    "name": "ipython",
    "version": 3
   },
   "file_extension": ".py",
   "mimetype": "text/x-python",
   "name": "python",
   "nbconvert_exporter": "python",
   "pygments_lexer": "ipython3",
   "version": "3.8.8"
  },
  "orig_nbformat": 4,
  "kernelspec": {
   "name": "python3",
   "display_name": "Python 3.8.8 64-bit ('torch-points3d-w-BPrO1f-py3.8': poetry)"
  },
  "interpreter": {
   "hash": "b6735002e15b51b6d703c89f82108674911e30b5653ed2ad83f3e0f88fc4e377"
  }
 },
 "nbformat": 4,
 "nbformat_minor": 2,
 "cells": [
  {
   "cell_type": "code",
   "execution_count": 1,
   "metadata": {},
   "outputs": [],
   "source": [
    "import open3d as o3d\n",
    "import numpy as np\n",
    "\n",
    "file = '../../../UrbanNav/HK-Data20200314/velodyne/549935.7771.ply'\n",
    "\n",
    "pcd = o3d.io.read_point_cloud(file)\n",
    "# o3d.visualization.draw_geometries([pcd])"
   ]
  },
  {
   "cell_type": "code",
   "execution_count": 9,
   "metadata": {
    "tags": []
   },
   "outputs": [
    {
     "output_type": "stream",
     "name": "stdout",
     "text": [
      "[[ 3.185295  0.003892 -0.523325  0.      ]\n [ 3.189218  0.012803 -0.523974  0.      ]\n [ 3.189162  0.022821 -0.523974  0.      ]\n ...\n [ 3.164147 -0.033688  0.59619   0.      ]\n [ 3.170129 -0.024345  0.597301  0.      ]\n [ 3.168219 -0.015483  0.59693   0.      ]]\n"
     ]
    }
   ],
   "source": [
    "n_scan = 32\n",
    "horizon_scan = 1800\n",
    "ang_top = 30\n",
    "ang_bottom = -10\n",
    "ang_res_x = 360/horizon_scan\n",
    "ang_res_y = (ang_top-ang_bottom)/n_scan\n",
    "ground_scan_ind = 20\n",
    "sensor_mount_angle = 0\n",
    "sensor_minimum_range = 1\n",
    "\n",
    "pcd = o3d.io.read_point_cloud(file)\n",
    "coords = np.asarray(pcd.points)\n",
    "\n",
    "# Reorder points\n",
    "reordered_coords = np.zeros(shape=[horizon_scan * n_scan, 4])\n",
    "for [x, y, z] in coords:\n",
    "    if np.linalg.norm([x, y, z]) < sensor_minimum_range:\n",
    "        continue\n",
    "\n",
    "    vertical_angle = np.arctan2(z, np.linalg.norm([x, y])) * 180.0 / np.pi\n",
    "\n",
    "    if vertical_angle < ang_bottom or vertical_angle > ang_top:\n",
    "        continue\n",
    "\n",
    "    vert_id = np.round((vertical_angle - ang_bottom) / ang_res_y)\n",
    "\n",
    "    horizon_angle = np.arctan2(y, x) * 180.0 / np.pi\n",
    "\n",
    "    if horizon_angle < 0:\n",
    "        horizon_angle += 360\n",
    "\n",
    "    horizon_id = np.round(horizon_angle / ang_res_x)\n",
    "\n",
    "    index = int(horizon_id + vert_id * horizon_scan)\n",
    "\n",
    "    reordered_coords[index, :3] = [x, y, z]\n",
    "\n",
    "# Ground removal\n",
    "for i in range(reordered_coords.shape[0]):\n",
    "    lower_id = i\n",
    "    upper_id = i + horizon_scan\n",
    "\n",
    "    if upper_id >= reordered_coords.shape[0]:\n",
    "        continue\n",
    "\n",
    "    diffX = reordered_coords[upper_id, 0] - reordered_coords[lower_id, 0]\n",
    "    diffY = reordered_coords[upper_id, 1] - reordered_coords[lower_id, 1]\n",
    "    diffZ = reordered_coords[upper_id, 2] - reordered_coords[lower_id, 2]\n",
    "\n",
    "    angle = np.arctan2(diffZ, np.linalg.norm([diffX, diffY])) * 180.0 / np.pi\n",
    "\n",
    "    if np.abs(angle - sensor_minimum_range) <= 10:\n",
    "        reordered_coords[i, 3] = 1\n",
    "\n",
    "reordered_coords = reordered_coords[np.logical_not(np.logical_and(reordered_coords[:, 0] == 0, reordered_coords[:, 1] == 0, reordered_coords[:, 2] == 0))]\n",
    "segmented_coords = reordered_coords[:, :3][reordered_coords[:, -1] != 1]\n"
   ]
  },
  {
   "cell_type": "code",
   "execution_count": 17,
   "metadata": {},
   "outputs": [],
   "source": [
    "pcd_seg = o3d.geometry.PointCloud()\n",
    "pcd_seg.points = o3d.utility.Vector3dVector(segmented_coords)\n",
    "o3d.visualization.draw_geometries([pcd_seg])"
   ]
  }
 ]
}