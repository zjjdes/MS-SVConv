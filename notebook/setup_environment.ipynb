{
  "nbformat": 4,
  "nbformat_minor": 0,
  "metadata": {
    "colab": {
      "name": "demo_MSSVConv.ipynb",
      "provenance": [],
      "collapsed_sections": [],
      "authorship_tag": "ABX9TyOtb3t1VtUSavl2KX7ysI7C",
      "include_colab_link": true
    },
    "kernelspec": {
      "name": "python3",
      "display_name": "Python 3.8.8 64-bit ('torch-points3d-w-BPrO1f-py3.8': poetry)"
    },
    "language_info": {
      "name": "python",
      "version": "3.8.8"
    },
    "accelerator": "GPU",
    "interpreter": {
      "hash": "b6735002e15b51b6d703c89f82108674911e30b5653ed2ad83f3e0f88fc4e377"
    }
  },
  "cells": [
    {
      "cell_type": "markdown",
      "metadata": {
        "id": "fv1Ca0XF6pHz"
      },
      "source": [
        "## Installation\n",
        "Installation of MS-SVConv using the following:\n",
        " - Ubuntu 20.04 (w/ gcc-7)\n",
        " - nvidia-driver-460\n",
        " - CUDA 11.2\n",
        " - cudnn 8.1.0 (optional)\n",
        " - Pytorch 1.9.0+cu111\n",
        " - Python 3.8\n",
        "\n",
        "Default environment uses:\n",
        " - Ubuntu 18.04 (w/ gcc-7)\n",
        " - nvidia-driver-440 (does not support RTX 30s)\n",
        " - CUDA 10.2\n",
        " - Pytorch 1.9.0\n",
        " - Python 3.7\n",
        "\n",
        "Before installation, make sure of the following:\n",
        " - Ubuntu 20.04 uses `gcc-9` by default, install `gcc-7` and use it using `sudo update-alternatives --config gcc` and `sudo update-alternatives --config g++`\n",
        " - CUDA 10 and CUDA 11 should both work, install the correct version for the GPU used\n",
        " - Pytorch 1.9.0 by default uses CUDA 11.1, but CUDA 11.2 should work, while installing torch-related packages, specify `cu111`\n",
        "\n",
        "Before using this notebook:\n",
        " - `git clone https://github.com/nicolas-chaulet/torch-points3d`\n",
        " - `cd torch-points3d`\n",
        " - `git clone https://github.com/zjjdes/MS-SVConv`\n",
        " - Install poetry\n",
        " - `poetry install --no-root`\n",
        " - `poetry shell`\n",
        " - By default poetry installs some old packages, that is why they will be reinstalled using this notebook\n",
        "\n",
        "When encountered by `undefined symbol` errors, either check `gcc-7`, or reinstall the errorneous package using the commands in this notebook"
      ]
    },
    {
      "source": [
        "## Install required packages in terminal\n",
        "`sudo apt install xvfb libgl1-mesa-glx build-essential python3-dev libopenblas-dev libsparsehash-dev`"
      ],
      "cell_type": "markdown",
      "metadata": {}
    },
    {
      "source": [
        "## Install packages with pip (poetry and pip used here instead of conda)"
      ],
      "cell_type": "markdown",
      "metadata": {}
    },
    {
      "cell_type": "code",
      "metadata": {
        "colab": {
          "base_uri": "https://localhost:8080/",
          "height": 1000
        },
        "id": "vbPbVET4Bv15",
        "outputId": "b479e56c-6768-48db-aa10-ba9231b70500"
      },
      "source": [
        "!pip install torch==1.9.0+cu111 torchvision==0.10.0+cu111 torchaudio==0.9.0 -f https://download.pytorch.org/whl/torch_stable.html\n",
        "!pip uninstall -y torch-scatter\n",
        "!pip uninstall -y torch-sparse\n",
        "!pip uninstall -y torch-cluster\n",
        "!pip uninstall -y torch-geometric\n",
        "!pip install torch-scatter -f https://pytorch-geometric.com/whl/torch-1.9.0+cu111.html\n",
        "!pip install torch-sparse -f https://pytorch-geometric.com/whl/torch-1.9.0+cu111.html\n",
        "!pip install torch-cluster -f https://pytorch-geometric.com/whl/torch-1.9.0+cu111.html\n",
        "!pip install torch-spline-conv -f https://pytorch-geometric.com/whl/torch-1.9.0+cu111.html\n",
        "!pip install torch-geometric\n",
        "!pip install pyvista\n",
        "!pip install --upgrade jsonschema"
      ],
      "execution_count": null,
      "outputs": []
    },
    {
      "cell_type": "code",
      "execution_count": null,
      "metadata": {},
      "outputs": [],
      "source": [
        "# Carefully check the output of this command, if it replaces some packages with the default/older\n",
        "# versions specified in torch-points3d, reinstall the correct versions again afterwards\n",
        "!pip install git+https://github.com/nicolas-chaulet/torch-points3d.git\n"
      ]
    },
    {
      "cell_type": "code",
      "execution_count": null,
      "metadata": {},
      "outputs": [],
      "source": [
        "!pip install pyvistaqt\n",
        "!pip install ipyvtklink"
      ]
    },
    {
      "cell_type": "code",
      "execution_count": null,
      "metadata": {},
      "outputs": [],
      "source": [
        "# MinkowskiEngine 0.5.4\n",
        "!pip install torch ninja\n",
        "!pip install -U MinkowskiEngine --install-option=\"--blas=openblas\" -v --no-deps"
      ]
    },
    {
      "cell_type": "code",
      "metadata": {
        "id": "_fSreyeXWU1E",
        "outputId": "d5c8e6f4-07e4-42dd-d894-9e693eb9b93d",
        "colab": {
          "base_uri": "https://localhost:8080/"
        }
      },
      "source": [
        "# We install also install torchsparse\n",
        "!pip install --upgrade git+https://github.com/mit-han-lab/torchsparse.git@e268836e64513b9a31c091cd1d517778d4c1b9e6"
      ],
      "execution_count": null,
      "outputs": []
    },
    {
      "cell_type": "code",
      "execution_count": null,
      "metadata": {},
      "outputs": [],
      "source": [
        "# For training\n",
        "!pip install pycuda"
      ]
    },
    {
      "source": [
        "## Demo data preparation\n",
        "We need to download the datasets, and the models"
      ],
      "cell_type": "markdown",
      "metadata": {}
    },
    {
      "cell_type": "code",
      "execution_count": null,
      "metadata": {},
      "outputs": [],
      "source": [
        "import os.path as osp\n",
        "import pathlib\n",
        "import requests\n",
        "from zipfile import ZipFile\n",
        "\n",
        "MODEL = {\"MS_SVCONV_2cm_X2_3head_3dm.pt\": \"https://cloud.mines-paristech.fr/index.php/s/hRc6y2YIFtYsGAI/download\",\n",
        "         \"MS_SVCONV_4cm_X2_3head_eth.pt\": \"https://cloud.mines-paristech.fr/index.php/s/pUmGPtHUG2ASxlJ/download\"}\n",
        "DATA = {\"gazebo_winter_12.pcd\": \"https://cloud.mines-paristech.fr/index.php/s/zgO88hYFeogTj2s/download\",\n",
        "        \"gazebo_winter_11.pcd\": \"https://cloud.mines-paristech.fr/index.php/s/NpsabVL7bz5qFEe/download\",\n",
        "        \"kitchen_0.ply\": \"https://cloud.mines-paristech.fr/index.php/s/lArxiaV0DPo4bBU/download\",\n",
        "        \"kitchen_10.ply\": \"https://cloud.mines-paristech.fr/index.php/s/357BXcA2qcrw2Uy/download\"}\n",
        "\n",
        "def download(url, out, name):\n",
        "  \"\"\"\n",
        "  download a file and extract the zip file\n",
        "  \"\"\"\n",
        "  req = requests.get(url)\n",
        "  pathlib.Path(out).mkdir(exist_ok=True)\n",
        "  with open(osp.join(out, name), \"wb\") as archive:\n",
        "    archive.write(req.content)\n",
        "def extract(out, name):\n",
        "  with ZipFile(osp.join(out, name+\".zip\"), \"r\") as zip_obj:\n",
        "    zip_obj.extractall(osp.join(out, name))\n",
        "# Download Models and data for the demo\n",
        "download(MODEL[\"MS_SVCONV_2cm_X2_3head_3dm.pt\"], \"models\", \"MS_SVCONV_2cm_X2_3head_3dm.pt\")\n",
        "download(MODEL[\"MS_SVCONV_4cm_X2_3head_eth.pt\"], \"models\", \"MS_SVCONV_4cm_X2_3head_eth.pt\")\n",
        "download(DATA[\"gazebo_winter_12.pcd\"], \"data\", \"gazebo_winter_12.pcd\")\n",
        "download(DATA[\"gazebo_winter_11.pcd\"], \"data\", \"gazebo_winter_11.pcd\")\n",
        "download(DATA[\"kitchen_0.ply\"], \"data\", \"kitchen_0.ply\")\n",
        "download(DATA[\"kitchen_10.ply\"], \"data\", \"kitchen_10.ply\")"
      ]
    },
    {
      "source": [
        "## Now use demo notebooks to test MS-SVConv for registration"
      ],
      "cell_type": "markdown",
      "metadata": {}
    }
  ]
}