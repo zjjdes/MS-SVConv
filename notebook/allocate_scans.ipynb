{
 "cells": [
  {
   "cell_type": "code",
   "execution_count": 1,
   "metadata": {},
   "outputs": [],
   "source": [
    "import os\n",
    "from os import mkdir\n",
    "from os.path import isdir, join\n",
    "from shutil import copyfile\n",
    "import glob\n",
    "import numpy as np\n",
    "\n",
    "os.environ['NUMEXPR_MAX_THREADS'] = '16'"
   ]
  },
  {
   "cell_type": "code",
   "execution_count": 9,
   "metadata": {},
   "outputs": [],
   "source": [
    "files_dir = '../../data/kitti/raw/dataset/sequences/00/velodyne'\n",
    "files = sorted(glob.glob(join(files_dir, '*.bin'))) # KITTI point clouds\n",
    "\n",
    "poses = np.loadtxt('../../data/kitti/raw/dataset/refined_poses/00.txt') # refined poses (transformations from camera frame to local frame)\n",
    "\n",
    "Tr = np.array([[4.276802385584e-04, -9.999672484946e-01, -8.084491683471e-03, -1.198459927713e-02],\n",
    "               [-7.210626507497e-03, 8.081198471645e-03, -9.999413164504e-01, -5.403984729748e-02],\n",
    "               [9.999738645903e-01, 4.859485810390e-04, -7.206933692422e-03, -2.921968648686e-01],\n",
    "               [0, 0, 0, 1]]) # transformation from lidar frame to camera frame\n",
    "\n",
    "# Ground truth of rover, input\n",
    "# gt = np.array([[-4131763.68069097, 2895922.7736556, -3888756.58216884]]).T\n",
    "# gt = np.array([[-4131574.26909343, 2897161.19590152, -3887951.67177844]]).T # PKVL, computed by reference velocity, ITRF2014@04/05/2022\n",
    "\n",
    "# transformation from [0, 0, 0] to target point\n",
    "# T_rov_target = np.hstack((np.eye(3), gt))\n",
    "# T_rov_target = np.vstack((T_rov_target, np.array([[0, 0, 0, 1]])))\n",
    "\n",
    "spacer = 10 # number of seconds between rov and ref, input\n",
    "epochs = range(324000, 324000+3600) # epochs in GPS TOW, input\n",
    "\n",
    "# output directory\n",
    "output_dir = '../../../KITTI_partial_' + str(spacer) + 's' + '_220504'\n",
    "if not isdir(output_dir):\n",
    "  mkdir(output_dir)\n",
    "\n",
    "rov_dir = join(output_dir, 'velodyne_rov') # rov scan directory\n",
    "if not isdir(rov_dir):\n",
    "  mkdir(rov_dir)\n",
    "\n",
    "ref_dir = join(output_dir, 'velodyne_ref') # ref scan directory\n",
    "if not isdir(ref_dir):\n",
    "  mkdir(ref_dir)"
   ]
  },
  {
   "cell_type": "code",
   "execution_count": 10,
   "metadata": {},
   "outputs": [],
   "source": [
    "T_ref_rov_all = np.empty([len(epochs)*4, 4]) # transformations from ref to rov per epoch\n",
    "# T_ref_target_all = np.empty([len(epochs)*4, 4]) # transformations from ref to target per epoch\n",
    "test_list = np.empty([len(epochs), 1]) # rover scan epochs\n",
    "\n",
    "for i in range(len(epochs)):\n",
    "  rov_id = epochs[i] # TOW of rover scan\n",
    "  ref_id = rov_id + 9000000\n",
    "  \n",
    "  rov_file = files[i]\n",
    "  ref_file = files[i+spacer]\n",
    "\n",
    "  # Copy and rename rov and ref scans\n",
    "  copyfile(rov_file, join(rov_dir, str(rov_id) + '.bin'))\n",
    "  copyfile(ref_file, join(ref_dir, str(ref_id) + '.bin'))\n",
    "\n",
    "  # Get transformation from ref to rov\n",
    "  T_rov_local = np.concatenate((poses[i, :].reshape((3, 4)), np.array([[0, 0, 0, 1]])), axis=0)\n",
    "  T_rov_local = np.dot(np.dot(np.linalg.inv(Tr), T_rov_local), Tr)\n",
    "\n",
    "  T_ref_local = np.concatenate((poses[i+spacer, :].reshape((3, 4)), np.array([[0, 0, 0, 1]])), axis=0)\n",
    "  T_ref_local = np.dot(np.dot(np.linalg.inv(Tr), T_ref_local), Tr)\n",
    "\n",
    "  T_ref_rov = np.dot(np.linalg.inv(T_rov_local), T_ref_local) # ref lidar frame to rov lidar frame\n",
    "  T_ref_rov_all[i*4:(i+1)*4, :] = T_ref_rov\n",
    "\n",
    "  # T_ref_target = np.dot(T_rov_target, T_ref_rov) # ref lidar frame to target\n",
    "  # T_ref_target_all[i*4:(i+1)*4, :] = T_ref_target\n",
    "\n",
    "  test_list[i, :] = rov_id\n",
    "\n",
    "np.savetxt(join(output_dir, 'T_ref_rov.csv'), T_ref_rov_all, delimiter=',')\n",
    "# np.savetxt(join(output_dir, 'Tr_georeferencing_sim.csv'), T_ref_target_all, delimiter=',')\n",
    "np.savetxt(join(output_dir, 'test_list.txt'), test_list, fmt='%d', delimiter=',')"
   ]
  }
 ],
 "metadata": {
  "kernelspec": {
   "display_name": "Python 3.8.8 64-bit ('torch-points3d-w-BPrO1f-py3.8': poetry)",
   "language": "python",
   "name": "python3"
  },
  "language_info": {
   "codemirror_mode": {
    "name": "ipython",
    "version": 3
   },
   "file_extension": ".py",
   "mimetype": "text/x-python",
   "name": "python",
   "nbconvert_exporter": "python",
   "pygments_lexer": "ipython3",
   "version": "3.8.8"
  },
  "orig_nbformat": 4,
  "vscode": {
   "interpreter": {
    "hash": "5e20dd5218416d7eb72d40f0a13617c47c3f2e42b8e6e6b8b8d583f5b6287b83"
   }
  }
 },
 "nbformat": 4,
 "nbformat_minor": 2
}
